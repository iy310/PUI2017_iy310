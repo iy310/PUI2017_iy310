{
 "cells": [
  {
   "cell_type": "code",
   "execution_count": 6,
   "metadata": {
    "collapsed": false,
    "scrolled": true
   },
   "outputs": [
    {
     "name": "stdout",
     "output_type": "stream",
     "text": [
      "Populating the interactive namespace from numpy and matplotlib\n"
     ]
    }
   ],
   "source": [
    "import pylab as pl\n",
    "import pandas as pd\n",
    "import numpy as np\n",
    "import os\n",
    "import scipy.stats\n",
    "\n",
    "%pylab inline"
   ]
  },
  {
   "cell_type": "code",
   "execution_count": 7,
   "metadata": {
    "collapsed": true
   },
   "outputs": [],
   "source": [
    "def getCitiBikeCSV(datestring):\n",
    "    '''Downloads citibike data and unzips it. If the data is downloaded by not unzippeds it zips it. Moves the data to $PUIDATA\n",
    "    Arguments:\n",
    "        date string as yyyymm\n",
    "    '''\n",
    "    print (\"Downloading\", datestring)\n",
    "    ### First I will heck that it is not already there\n",
    "    if not os.path.isfile(os.getenv(\"PUIDATA\") + \"/\" + datestring + \"-citibike-tripdata.csv\"):\n",
    "        if os.path.isfile(datestring + \"-citibike-tripdata.csv\"):\n",
    "            # if in the current dir just move it\n",
    "            if os.system(\"mv \" + datestring + \"-citibike-tripdata.csv \" + os.getenv(\"PUIDATA\")):\n",
    "                print (\"Error moving file!, Please check!\")\n",
    "        #otherwise start looking for the zip file\n",
    "        else:\n",
    "            if not os.path.isfile(os.getenv(\"PUIDATA\") + \"/\" + datestring + \"-citibike-tripdata.csv.zip\"):\n",
    "                if not os.path.isfile(datestring + \"-citibike-tripdata.csv.zip\"):\n",
    "                    os.system(\"curl -O https://s3.amazonaws.com/tripdata/\" + datestring + \"-citibike-tripdata.csv.zip\")\n",
    "                ###  To move it I use the os.system() functions to run bash commands with arguments\n",
    "                os.system(\"mv \" + datestring + \"-citibike-tripdata.csv.zip \" + os.getenv(\"PUIDATA\"))\n",
    "            ### unzip the csv \n",
    "            os.system(\"unzip \" + os.getenv(\"PUIDATA\") + \"/\" + datestring + \"-citibike-tripdata.csv.zip\")\n",
    "            ## NOTE: old csv citibike data had a different name structure. \n",
    "            if '2014' in datestring:\n",
    "                os.system(\"mv \" + datestring[:4] + '-' +  datestring[4:] + \n",
    "                          \"\\ -\\ Citi\\ Bike\\ trip\\ data.csv \" + datestring + \"-citibike-tripdata.csv\")\n",
    "            os.system(\"mv \" + datestring + \"-citibike-tripdata.csv \" + os.getenv(\"PUIDATA\"))\n",
    "    ### One final check:\n",
    "    if not os.path.isfile(os.getenv(\"PUIDATA\") + \"/\" + datestring + \"-citibike-tripdata.csv\"):\n",
    "        print (\"WARNING!!! something is wrong: the file is not there!\")\n",
    "\n",
    "    else:\n",
    "        print (\"file in place, you can continue\")"
   ]
  },
  {
   "cell_type": "code",
   "execution_count": 8,
   "metadata": {
    "collapsed": true,
    "scrolled": false
   },
   "outputs": [],
   "source": [
    "ds1 = '201701'\n",
    "ds2 = '201707'"
   ]
  },
  {
   "cell_type": "code",
   "execution_count": 9,
   "metadata": {
    "collapsed": false
   },
   "outputs": [
    {
     "name": "stdout",
     "output_type": "stream",
     "text": [
      "Downloading 201701\n",
      "file in place, you can continue\n",
      "Downloading 201707\n",
      "file in place, you can continue\n"
     ]
    }
   ],
   "source": [
    "getCitiBikeCSV(ds1)\n",
    "getCitiBikeCSV(ds2)"
   ]
  },
  {
   "cell_type": "code",
   "execution_count": 11,
   "metadata": {
    "collapsed": false
   },
   "outputs": [],
   "source": [
    "df1 = pd.read_csv(os.getenv(\"PUIDATA\") + \"/\" + ds1 + '-citibike-tripdata.csv')\n",
    "df2 = pd.read_csv(os.getenv(\"PUIDATA\") + \"/\" + ds2 + '-citibike-tripdata.csv')"
   ]
  },
  {
   "cell_type": "code",
   "execution_count": 13,
   "metadata": {
    "collapsed": false
   },
   "outputs": [
    {
     "data": {
      "text/plain": [
       "Index(['trip duration', 'start time', 'stop time', 'start station id',\n",
       "       'start station name', 'start station latitude',\n",
       "       'start station longitude', 'end station id', 'end station name',\n",
       "       'end station latitude', 'end station longitude', 'bike id', 'user type',\n",
       "       'birth year', 'gender'],\n",
       "      dtype='object')"
      ]
     },
     "execution_count": 13,
     "metadata": {},
     "output_type": "execute_result"
    }
   ],
   "source": [
    "df1.columns = map(str.lower, df1.columns)\n",
    "df1.columns"
   ]
  },
  {
   "cell_type": "code",
   "execution_count": 14,
   "metadata": {
    "collapsed": false
   },
   "outputs": [
    {
     "data": {
      "text/plain": [
       "Index(['trip_duration', 'start_time', 'stop_time', 'start_station_id',\n",
       "       'start_station_name', 'start_station_latitude',\n",
       "       'start_station_longitude', 'end_station_id', 'end_station_name',\n",
       "       'end_station_latitude', 'end_station_longitude', 'bike_id', 'user_type',\n",
       "       'birth_year', 'gender'],\n",
       "      dtype='object')"
      ]
     },
     "execution_count": 14,
     "metadata": {},
     "output_type": "execute_result"
    }
   ],
   "source": [
    "df1.columns = [c.replace(' ', '_') for c in df1.columns]\n",
    "df1.columns"
   ]
  },
  {
   "cell_type": "code",
   "execution_count": 15,
   "metadata": {
    "collapsed": false
   },
   "outputs": [
    {
     "data": {
      "text/plain": [
       "Index(['tripduration', 'starttime', 'stoptime', 'start station id',\n",
       "       'start station name', 'start station latitude',\n",
       "       'start station longitude', 'end station id', 'end station name',\n",
       "       'end station latitude', 'end station longitude', 'bikeid', 'usertype',\n",
       "       'birth year', 'gender'],\n",
       "      dtype='object')"
      ]
     },
     "execution_count": 15,
     "metadata": {},
     "output_type": "execute_result"
    }
   ],
   "source": [
    "df2.columns"
   ]
  },
  {
   "cell_type": "code",
   "execution_count": 16,
   "metadata": {
    "collapsed": false
   },
   "outputs": [
    {
     "data": {
      "text/plain": [
       "Index(['trip_duration', 'start_time', 'stop_time', 'start_station_id',\n",
       "       'start_station_name', 'start_station_latitude',\n",
       "       'start_station_longitude', 'end_station_id', 'end_station_name',\n",
       "       'end_station_latitude', 'end_station_longitude', 'bike_id', 'user_type',\n",
       "       'birth_year', 'gender'],\n",
       "      dtype='object')"
      ]
     },
     "execution_count": 16,
     "metadata": {},
     "output_type": "execute_result"
    }
   ],
   "source": [
    "df2.rename(columns={'tripduration':'trip duration'}, inplace=True)\n",
    "df2.rename(columns={'starttime':'start time'}, inplace=True)\n",
    "df2.rename(columns={'stoptime':'stop time'}, inplace=True)\n",
    "df2.rename(columns={'bikeid':'bike id'}, inplace=True)\n",
    "df2.rename(columns={'usertype':'user type'}, inplace=True)\n",
    "\n",
    "df2.columns = [c.replace(' ', '_') for c in df2.columns]\n",
    "\n",
    "df2.columns"
   ]
  },
  {
   "cell_type": "code",
   "execution_count": 17,
   "metadata": {
    "collapsed": false
   },
   "outputs": [
    {
     "data": {
      "text/html": [
       "<div>\n",
       "<table border=\"1\" class=\"dataframe\">\n",
       "  <thead>\n",
       "    <tr style=\"text-align: right;\">\n",
       "      <th></th>\n",
       "      <th>trip_duration</th>\n",
       "      <th>start_time</th>\n",
       "      <th>stop_time</th>\n",
       "      <th>start_station_id</th>\n",
       "      <th>start_station_name</th>\n",
       "      <th>start_station_latitude</th>\n",
       "      <th>start_station_longitude</th>\n",
       "      <th>end_station_id</th>\n",
       "      <th>end_station_name</th>\n",
       "      <th>end_station_latitude</th>\n",
       "      <th>end_station_longitude</th>\n",
       "      <th>bike_id</th>\n",
       "      <th>user_type</th>\n",
       "      <th>birth_year</th>\n",
       "      <th>gender</th>\n",
       "    </tr>\n",
       "  </thead>\n",
       "  <tbody>\n",
       "    <tr>\n",
       "      <th>0</th>\n",
       "      <td>680</td>\n",
       "      <td>2017-01-01 00:00:21</td>\n",
       "      <td>2017-01-01 00:11:41</td>\n",
       "      <td>3226</td>\n",
       "      <td>W 82 St &amp; Central Park West</td>\n",
       "      <td>40.782750</td>\n",
       "      <td>-73.971370</td>\n",
       "      <td>3165</td>\n",
       "      <td>Central Park West &amp; W 72 St</td>\n",
       "      <td>40.775794</td>\n",
       "      <td>-73.976206</td>\n",
       "      <td>25542</td>\n",
       "      <td>Subscriber</td>\n",
       "      <td>1965.0</td>\n",
       "      <td>2</td>\n",
       "    </tr>\n",
       "    <tr>\n",
       "      <th>1</th>\n",
       "      <td>1282</td>\n",
       "      <td>2017-01-01 00:00:45</td>\n",
       "      <td>2017-01-01 00:22:08</td>\n",
       "      <td>3263</td>\n",
       "      <td>Cooper Square &amp; E 7 St</td>\n",
       "      <td>40.729236</td>\n",
       "      <td>-73.990868</td>\n",
       "      <td>498</td>\n",
       "      <td>Broadway &amp; W 32 St</td>\n",
       "      <td>40.748549</td>\n",
       "      <td>-73.988084</td>\n",
       "      <td>21136</td>\n",
       "      <td>Subscriber</td>\n",
       "      <td>1987.0</td>\n",
       "      <td>2</td>\n",
       "    </tr>\n",
       "    <tr>\n",
       "      <th>2</th>\n",
       "      <td>648</td>\n",
       "      <td>2017-01-01 00:00:57</td>\n",
       "      <td>2017-01-01 00:11:46</td>\n",
       "      <td>3143</td>\n",
       "      <td>5 Ave &amp; E 78 St</td>\n",
       "      <td>40.776829</td>\n",
       "      <td>-73.963888</td>\n",
       "      <td>3152</td>\n",
       "      <td>3 Ave &amp; E 71 St</td>\n",
       "      <td>40.768737</td>\n",
       "      <td>-73.961199</td>\n",
       "      <td>18147</td>\n",
       "      <td>Customer</td>\n",
       "      <td>NaN</td>\n",
       "      <td>0</td>\n",
       "    </tr>\n",
       "    <tr>\n",
       "      <th>3</th>\n",
       "      <td>631</td>\n",
       "      <td>2017-01-01 00:01:10</td>\n",
       "      <td>2017-01-01 00:11:42</td>\n",
       "      <td>3143</td>\n",
       "      <td>5 Ave &amp; E 78 St</td>\n",
       "      <td>40.776829</td>\n",
       "      <td>-73.963888</td>\n",
       "      <td>3152</td>\n",
       "      <td>3 Ave &amp; E 71 St</td>\n",
       "      <td>40.768737</td>\n",
       "      <td>-73.961199</td>\n",
       "      <td>21211</td>\n",
       "      <td>Customer</td>\n",
       "      <td>NaN</td>\n",
       "      <td>0</td>\n",
       "    </tr>\n",
       "    <tr>\n",
       "      <th>4</th>\n",
       "      <td>621</td>\n",
       "      <td>2017-01-01 00:01:25</td>\n",
       "      <td>2017-01-01 00:11:47</td>\n",
       "      <td>3143</td>\n",
       "      <td>5 Ave &amp; E 78 St</td>\n",
       "      <td>40.776829</td>\n",
       "      <td>-73.963888</td>\n",
       "      <td>3152</td>\n",
       "      <td>3 Ave &amp; E 71 St</td>\n",
       "      <td>40.768737</td>\n",
       "      <td>-73.961199</td>\n",
       "      <td>26819</td>\n",
       "      <td>Customer</td>\n",
       "      <td>NaN</td>\n",
       "      <td>0</td>\n",
       "    </tr>\n",
       "  </tbody>\n",
       "</table>\n",
       "</div>"
      ],
      "text/plain": [
       "   trip_duration           start_time            stop_time  start_station_id  \\\n",
       "0            680  2017-01-01 00:00:21  2017-01-01 00:11:41              3226   \n",
       "1           1282  2017-01-01 00:00:45  2017-01-01 00:22:08              3263   \n",
       "2            648  2017-01-01 00:00:57  2017-01-01 00:11:46              3143   \n",
       "3            631  2017-01-01 00:01:10  2017-01-01 00:11:42              3143   \n",
       "4            621  2017-01-01 00:01:25  2017-01-01 00:11:47              3143   \n",
       "\n",
       "            start_station_name  start_station_latitude  \\\n",
       "0  W 82 St & Central Park West               40.782750   \n",
       "1       Cooper Square & E 7 St               40.729236   \n",
       "2              5 Ave & E 78 St               40.776829   \n",
       "3              5 Ave & E 78 St               40.776829   \n",
       "4              5 Ave & E 78 St               40.776829   \n",
       "\n",
       "   start_station_longitude  end_station_id             end_station_name  \\\n",
       "0               -73.971370            3165  Central Park West & W 72 St   \n",
       "1               -73.990868             498           Broadway & W 32 St   \n",
       "2               -73.963888            3152              3 Ave & E 71 St   \n",
       "3               -73.963888            3152              3 Ave & E 71 St   \n",
       "4               -73.963888            3152              3 Ave & E 71 St   \n",
       "\n",
       "   end_station_latitude  end_station_longitude  bike_id   user_type  \\\n",
       "0             40.775794             -73.976206    25542  Subscriber   \n",
       "1             40.748549             -73.988084    21136  Subscriber   \n",
       "2             40.768737             -73.961199    18147    Customer   \n",
       "3             40.768737             -73.961199    21211    Customer   \n",
       "4             40.768737             -73.961199    26819    Customer   \n",
       "\n",
       "   birth_year  gender  \n",
       "0      1965.0       2  \n",
       "1      1987.0       2  \n",
       "2         NaN       0  \n",
       "3         NaN       0  \n",
       "4         NaN       0  "
      ]
     },
     "execution_count": 17,
     "metadata": {},
     "output_type": "execute_result"
    }
   ],
   "source": [
    "# concatenate the two dataframes into one\n",
    "df = pd.concat([df1, df2])\n",
    "df.head()"
   ]
  },
  {
   "cell_type": "markdown",
   "metadata": {},
   "source": [
    "# Trip Duration"
   ]
  },
  {
   "cell_type": "code",
   "execution_count": 18,
   "metadata": {
    "collapsed": false
   },
   "outputs": [
    {
     "data": {
      "text/html": [
       "<div>\n",
       "<table border=\"1\" class=\"dataframe\">\n",
       "  <thead>\n",
       "    <tr style=\"text-align: right;\">\n",
       "      <th></th>\n",
       "      <th>trip_duration</th>\n",
       "      <th>start_time</th>\n",
       "      <th>stop_time</th>\n",
       "      <th>start_station_id</th>\n",
       "      <th>start_station_name</th>\n",
       "      <th>start_station_latitude</th>\n",
       "      <th>start_station_longitude</th>\n",
       "      <th>end_station_id</th>\n",
       "      <th>end_station_name</th>\n",
       "      <th>end_station_latitude</th>\n",
       "      <th>end_station_longitude</th>\n",
       "      <th>bike_id</th>\n",
       "      <th>user_type</th>\n",
       "      <th>birth_year</th>\n",
       "      <th>gender</th>\n",
       "      <th>hour</th>\n",
       "    </tr>\n",
       "  </thead>\n",
       "  <tbody>\n",
       "    <tr>\n",
       "      <th>0</th>\n",
       "      <td>680</td>\n",
       "      <td>2017-01-01 00:00:21</td>\n",
       "      <td>2017-01-01 00:11:41</td>\n",
       "      <td>3226</td>\n",
       "      <td>W 82 St &amp; Central Park West</td>\n",
       "      <td>40.782750</td>\n",
       "      <td>-73.971370</td>\n",
       "      <td>3165</td>\n",
       "      <td>Central Park West &amp; W 72 St</td>\n",
       "      <td>40.775794</td>\n",
       "      <td>-73.976206</td>\n",
       "      <td>25542</td>\n",
       "      <td>Subscriber</td>\n",
       "      <td>1965.0</td>\n",
       "      <td>2</td>\n",
       "      <td>0</td>\n",
       "    </tr>\n",
       "    <tr>\n",
       "      <th>1</th>\n",
       "      <td>1282</td>\n",
       "      <td>2017-01-01 00:00:45</td>\n",
       "      <td>2017-01-01 00:22:08</td>\n",
       "      <td>3263</td>\n",
       "      <td>Cooper Square &amp; E 7 St</td>\n",
       "      <td>40.729236</td>\n",
       "      <td>-73.990868</td>\n",
       "      <td>498</td>\n",
       "      <td>Broadway &amp; W 32 St</td>\n",
       "      <td>40.748549</td>\n",
       "      <td>-73.988084</td>\n",
       "      <td>21136</td>\n",
       "      <td>Subscriber</td>\n",
       "      <td>1987.0</td>\n",
       "      <td>2</td>\n",
       "      <td>0</td>\n",
       "    </tr>\n",
       "    <tr>\n",
       "      <th>2</th>\n",
       "      <td>648</td>\n",
       "      <td>2017-01-01 00:00:57</td>\n",
       "      <td>2017-01-01 00:11:46</td>\n",
       "      <td>3143</td>\n",
       "      <td>5 Ave &amp; E 78 St</td>\n",
       "      <td>40.776829</td>\n",
       "      <td>-73.963888</td>\n",
       "      <td>3152</td>\n",
       "      <td>3 Ave &amp; E 71 St</td>\n",
       "      <td>40.768737</td>\n",
       "      <td>-73.961199</td>\n",
       "      <td>18147</td>\n",
       "      <td>Customer</td>\n",
       "      <td>NaN</td>\n",
       "      <td>0</td>\n",
       "      <td>0</td>\n",
       "    </tr>\n",
       "    <tr>\n",
       "      <th>3</th>\n",
       "      <td>631</td>\n",
       "      <td>2017-01-01 00:01:10</td>\n",
       "      <td>2017-01-01 00:11:42</td>\n",
       "      <td>3143</td>\n",
       "      <td>5 Ave &amp; E 78 St</td>\n",
       "      <td>40.776829</td>\n",
       "      <td>-73.963888</td>\n",
       "      <td>3152</td>\n",
       "      <td>3 Ave &amp; E 71 St</td>\n",
       "      <td>40.768737</td>\n",
       "      <td>-73.961199</td>\n",
       "      <td>21211</td>\n",
       "      <td>Customer</td>\n",
       "      <td>NaN</td>\n",
       "      <td>0</td>\n",
       "      <td>0</td>\n",
       "    </tr>\n",
       "    <tr>\n",
       "      <th>4</th>\n",
       "      <td>621</td>\n",
       "      <td>2017-01-01 00:01:25</td>\n",
       "      <td>2017-01-01 00:11:47</td>\n",
       "      <td>3143</td>\n",
       "      <td>5 Ave &amp; E 78 St</td>\n",
       "      <td>40.776829</td>\n",
       "      <td>-73.963888</td>\n",
       "      <td>3152</td>\n",
       "      <td>3 Ave &amp; E 71 St</td>\n",
       "      <td>40.768737</td>\n",
       "      <td>-73.961199</td>\n",
       "      <td>26819</td>\n",
       "      <td>Customer</td>\n",
       "      <td>NaN</td>\n",
       "      <td>0</td>\n",
       "      <td>0</td>\n",
       "    </tr>\n",
       "  </tbody>\n",
       "</table>\n",
       "</div>"
      ],
      "text/plain": [
       "   trip_duration           start_time            stop_time  start_station_id  \\\n",
       "0            680  2017-01-01 00:00:21  2017-01-01 00:11:41              3226   \n",
       "1           1282  2017-01-01 00:00:45  2017-01-01 00:22:08              3263   \n",
       "2            648  2017-01-01 00:00:57  2017-01-01 00:11:46              3143   \n",
       "3            631  2017-01-01 00:01:10  2017-01-01 00:11:42              3143   \n",
       "4            621  2017-01-01 00:01:25  2017-01-01 00:11:47              3143   \n",
       "\n",
       "            start_station_name  start_station_latitude  \\\n",
       "0  W 82 St & Central Park West               40.782750   \n",
       "1       Cooper Square & E 7 St               40.729236   \n",
       "2              5 Ave & E 78 St               40.776829   \n",
       "3              5 Ave & E 78 St               40.776829   \n",
       "4              5 Ave & E 78 St               40.776829   \n",
       "\n",
       "   start_station_longitude  end_station_id             end_station_name  \\\n",
       "0               -73.971370            3165  Central Park West & W 72 St   \n",
       "1               -73.990868             498           Broadway & W 32 St   \n",
       "2               -73.963888            3152              3 Ave & E 71 St   \n",
       "3               -73.963888            3152              3 Ave & E 71 St   \n",
       "4               -73.963888            3152              3 Ave & E 71 St   \n",
       "\n",
       "   end_station_latitude  end_station_longitude  bike_id   user_type  \\\n",
       "0             40.775794             -73.976206    25542  Subscriber   \n",
       "1             40.748549             -73.988084    21136  Subscriber   \n",
       "2             40.768737             -73.961199    18147    Customer   \n",
       "3             40.768737             -73.961199    21211    Customer   \n",
       "4             40.768737             -73.961199    26819    Customer   \n",
       "\n",
       "   birth_year  gender  hour  \n",
       "0      1965.0       2     0  \n",
       "1      1987.0       2     0  \n",
       "2         NaN       0     0  \n",
       "3         NaN       0     0  \n",
       "4         NaN       0     0  "
      ]
     },
     "execution_count": 18,
     "metadata": {},
     "output_type": "execute_result"
    }
   ],
   "source": [
    "# create 'hour' column that takes just hour from time from start_time\n",
    "df['hour'] = pd.to_datetime(df['start_time']).dt.hour\n",
    "\n",
    "df.head()"
   ]
  },
  {
   "cell_type": "code",
   "execution_count": 19,
   "metadata": {
    "collapsed": false
   },
   "outputs": [
    {
     "data": {
      "text/html": [
       "<div>\n",
       "<table border=\"1\" class=\"dataframe\">\n",
       "  <thead>\n",
       "    <tr style=\"text-align: right;\">\n",
       "      <th></th>\n",
       "      <th>trip_duration</th>\n",
       "      <th>start_time</th>\n",
       "      <th>stop_time</th>\n",
       "      <th>start_station_id</th>\n",
       "      <th>start_station_name</th>\n",
       "      <th>start_station_latitude</th>\n",
       "      <th>start_station_longitude</th>\n",
       "      <th>end_station_id</th>\n",
       "      <th>end_station_name</th>\n",
       "      <th>end_station_latitude</th>\n",
       "      <th>end_station_longitude</th>\n",
       "      <th>bike_id</th>\n",
       "      <th>user_type</th>\n",
       "      <th>birth_year</th>\n",
       "      <th>gender</th>\n",
       "      <th>hour</th>\n",
       "    </tr>\n",
       "  </thead>\n",
       "  <tbody>\n",
       "    <tr>\n",
       "      <th>6000</th>\n",
       "      <td>1396</td>\n",
       "      <td>2017-01-01 13:38:09</td>\n",
       "      <td>2017-01-01 14:01:25</td>\n",
       "      <td>3137</td>\n",
       "      <td>5 Ave &amp; E 73 St</td>\n",
       "      <td>40.772828</td>\n",
       "      <td>-73.966853</td>\n",
       "      <td>3165</td>\n",
       "      <td>Central Park West &amp; W 72 St</td>\n",
       "      <td>40.775794</td>\n",
       "      <td>-73.976206</td>\n",
       "      <td>20187</td>\n",
       "      <td>Customer</td>\n",
       "      <td>NaN</td>\n",
       "      <td>0</td>\n",
       "      <td>13</td>\n",
       "    </tr>\n",
       "    <tr>\n",
       "      <th>6001</th>\n",
       "      <td>147</td>\n",
       "      <td>2017-01-01 13:38:17</td>\n",
       "      <td>2017-01-01 13:40:44</td>\n",
       "      <td>3141</td>\n",
       "      <td>1 Ave &amp; E 68 St</td>\n",
       "      <td>40.765005</td>\n",
       "      <td>-73.958185</td>\n",
       "      <td>3372</td>\n",
       "      <td>E 74 St &amp; 1 Ave</td>\n",
       "      <td>40.768974</td>\n",
       "      <td>-73.954823</td>\n",
       "      <td>20080</td>\n",
       "      <td>Subscriber</td>\n",
       "      <td>1968.0</td>\n",
       "      <td>1</td>\n",
       "      <td>13</td>\n",
       "    </tr>\n",
       "    <tr>\n",
       "      <th>6002</th>\n",
       "      <td>301</td>\n",
       "      <td>2017-01-01 13:38:22</td>\n",
       "      <td>2017-01-01 13:43:24</td>\n",
       "      <td>3178</td>\n",
       "      <td>Riverside Dr &amp; W 78 St</td>\n",
       "      <td>40.784145</td>\n",
       "      <td>-73.983625</td>\n",
       "      <td>3167</td>\n",
       "      <td>Amsterdam Ave &amp; W 73 St</td>\n",
       "      <td>40.779668</td>\n",
       "      <td>-73.980930</td>\n",
       "      <td>26708</td>\n",
       "      <td>Subscriber</td>\n",
       "      <td>1961.0</td>\n",
       "      <td>1</td>\n",
       "      <td>13</td>\n",
       "    </tr>\n",
       "    <tr>\n",
       "      <th>6003</th>\n",
       "      <td>1429</td>\n",
       "      <td>2017-01-01 13:38:25</td>\n",
       "      <td>2017-01-01 14:02:15</td>\n",
       "      <td>497</td>\n",
       "      <td>E 17 St &amp; Broadway</td>\n",
       "      <td>40.737050</td>\n",
       "      <td>-73.990093</td>\n",
       "      <td>454</td>\n",
       "      <td>E 51 St &amp; 1 Ave</td>\n",
       "      <td>40.754557</td>\n",
       "      <td>-73.965930</td>\n",
       "      <td>21231</td>\n",
       "      <td>Subscriber</td>\n",
       "      <td>1992.0</td>\n",
       "      <td>2</td>\n",
       "      <td>13</td>\n",
       "    </tr>\n",
       "    <tr>\n",
       "      <th>6004</th>\n",
       "      <td>1467</td>\n",
       "      <td>2017-01-01 13:38:28</td>\n",
       "      <td>2017-01-01 14:02:55</td>\n",
       "      <td>249</td>\n",
       "      <td>Harrison St &amp; Hudson St</td>\n",
       "      <td>40.718710</td>\n",
       "      <td>-74.009001</td>\n",
       "      <td>212</td>\n",
       "      <td>W 16 St &amp; The High Line</td>\n",
       "      <td>40.743349</td>\n",
       "      <td>-74.006818</td>\n",
       "      <td>19452</td>\n",
       "      <td>Subscriber</td>\n",
       "      <td>1959.0</td>\n",
       "      <td>2</td>\n",
       "      <td>13</td>\n",
       "    </tr>\n",
       "  </tbody>\n",
       "</table>\n",
       "</div>"
      ],
      "text/plain": [
       "      trip_duration           start_time            stop_time  \\\n",
       "6000           1396  2017-01-01 13:38:09  2017-01-01 14:01:25   \n",
       "6001            147  2017-01-01 13:38:17  2017-01-01 13:40:44   \n",
       "6002            301  2017-01-01 13:38:22  2017-01-01 13:43:24   \n",
       "6003           1429  2017-01-01 13:38:25  2017-01-01 14:02:15   \n",
       "6004           1467  2017-01-01 13:38:28  2017-01-01 14:02:55   \n",
       "\n",
       "      start_station_id       start_station_name  start_station_latitude  \\\n",
       "6000              3137          5 Ave & E 73 St               40.772828   \n",
       "6001              3141          1 Ave & E 68 St               40.765005   \n",
       "6002              3178   Riverside Dr & W 78 St               40.784145   \n",
       "6003               497       E 17 St & Broadway               40.737050   \n",
       "6004               249  Harrison St & Hudson St               40.718710   \n",
       "\n",
       "      start_station_longitude  end_station_id             end_station_name  \\\n",
       "6000               -73.966853            3165  Central Park West & W 72 St   \n",
       "6001               -73.958185            3372              E 74 St & 1 Ave   \n",
       "6002               -73.983625            3167      Amsterdam Ave & W 73 St   \n",
       "6003               -73.990093             454              E 51 St & 1 Ave   \n",
       "6004               -74.009001             212      W 16 St & The High Line   \n",
       "\n",
       "      end_station_latitude  end_station_longitude  bike_id   user_type  \\\n",
       "6000             40.775794             -73.976206    20187    Customer   \n",
       "6001             40.768974             -73.954823    20080  Subscriber   \n",
       "6002             40.779668             -73.980930    26708  Subscriber   \n",
       "6003             40.754557             -73.965930    21231  Subscriber   \n",
       "6004             40.743349             -74.006818    19452  Subscriber   \n",
       "\n",
       "      birth_year  gender  hour  \n",
       "6000         NaN       0    13  \n",
       "6001      1968.0       1    13  \n",
       "6002      1961.0       1    13  \n",
       "6003      1992.0       2    13  \n",
       "6004      1959.0       2    13  "
      ]
     },
     "execution_count": 19,
     "metadata": {},
     "output_type": "execute_result"
    }
   ],
   "source": [
    "df.iloc[6000:6005]"
   ]
  },
  {
   "cell_type": "code",
   "execution_count": 20,
   "metadata": {
    "collapsed": true
   },
   "outputs": [],
   "source": [
    "# create day/night column\n",
    "\n",
    "# func for determining day or night\n",
    "\n",
    "def diurnal(x):\n",
    "    if x >= 7 and x <= 18:\n",
    "        return 1  # is day\n",
    "    else:\n",
    "        return 0 # is night\n",
    "    \n",
    "    \n",
    "df['diurnal'] = df.hour.apply(diurnal)"
   ]
  },
  {
   "cell_type": "code",
   "execution_count": 21,
   "metadata": {
    "collapsed": false
   },
   "outputs": [
    {
     "data": {
      "text/html": [
       "<div>\n",
       "<table border=\"1\" class=\"dataframe\">\n",
       "  <thead>\n",
       "    <tr style=\"text-align: right;\">\n",
       "      <th></th>\n",
       "      <th>trip_duration</th>\n",
       "      <th>start_time</th>\n",
       "      <th>stop_time</th>\n",
       "      <th>start_station_id</th>\n",
       "      <th>start_station_name</th>\n",
       "      <th>start_station_latitude</th>\n",
       "      <th>start_station_longitude</th>\n",
       "      <th>end_station_id</th>\n",
       "      <th>end_station_name</th>\n",
       "      <th>end_station_latitude</th>\n",
       "      <th>end_station_longitude</th>\n",
       "      <th>bike_id</th>\n",
       "      <th>user_type</th>\n",
       "      <th>birth_year</th>\n",
       "      <th>gender</th>\n",
       "      <th>hour</th>\n",
       "      <th>diurnal</th>\n",
       "    </tr>\n",
       "  </thead>\n",
       "  <tbody>\n",
       "    <tr>\n",
       "      <th>5000</th>\n",
       "      <td>1189</td>\n",
       "      <td>2017-01-01 12:56:58</td>\n",
       "      <td>2017-01-01 13:16:48</td>\n",
       "      <td>293</td>\n",
       "      <td>Lafayette St &amp; E 8 St</td>\n",
       "      <td>40.730207</td>\n",
       "      <td>-73.991026</td>\n",
       "      <td>426</td>\n",
       "      <td>West St &amp; Chambers St</td>\n",
       "      <td>40.717548</td>\n",
       "      <td>-74.013221</td>\n",
       "      <td>15922</td>\n",
       "      <td>NaN</td>\n",
       "      <td>1996.0</td>\n",
       "      <td>1</td>\n",
       "      <td>12</td>\n",
       "      <td>1</td>\n",
       "    </tr>\n",
       "    <tr>\n",
       "      <th>5001</th>\n",
       "      <td>738</td>\n",
       "      <td>2017-01-01 12:56:58</td>\n",
       "      <td>2017-01-01 13:09:17</td>\n",
       "      <td>490</td>\n",
       "      <td>8 Ave &amp; W 33 St</td>\n",
       "      <td>40.751551</td>\n",
       "      <td>-73.993934</td>\n",
       "      <td>513</td>\n",
       "      <td>W 56 St &amp; 10 Ave</td>\n",
       "      <td>40.768254</td>\n",
       "      <td>-73.988639</td>\n",
       "      <td>17254</td>\n",
       "      <td>Subscriber</td>\n",
       "      <td>1949.0</td>\n",
       "      <td>1</td>\n",
       "      <td>12</td>\n",
       "      <td>1</td>\n",
       "    </tr>\n",
       "    <tr>\n",
       "      <th>5002</th>\n",
       "      <td>228</td>\n",
       "      <td>2017-01-01 12:57:04</td>\n",
       "      <td>2017-01-01 13:00:53</td>\n",
       "      <td>308</td>\n",
       "      <td>St James Pl &amp; Oliver St</td>\n",
       "      <td>40.713079</td>\n",
       "      <td>-73.998512</td>\n",
       "      <td>361</td>\n",
       "      <td>Allen St &amp; Hester St</td>\n",
       "      <td>40.716059</td>\n",
       "      <td>-73.991908</td>\n",
       "      <td>15740</td>\n",
       "      <td>Subscriber</td>\n",
       "      <td>1957.0</td>\n",
       "      <td>1</td>\n",
       "      <td>12</td>\n",
       "      <td>1</td>\n",
       "    </tr>\n",
       "    <tr>\n",
       "      <th>5003</th>\n",
       "      <td>295</td>\n",
       "      <td>2017-01-01 12:57:02</td>\n",
       "      <td>2017-01-01 13:01:58</td>\n",
       "      <td>482</td>\n",
       "      <td>W 15 St &amp; 7 Ave</td>\n",
       "      <td>40.739355</td>\n",
       "      <td>-73.999318</td>\n",
       "      <td>127</td>\n",
       "      <td>Barrow St &amp; Hudson St</td>\n",
       "      <td>40.731724</td>\n",
       "      <td>-74.006744</td>\n",
       "      <td>27226</td>\n",
       "      <td>Subscriber</td>\n",
       "      <td>1981.0</td>\n",
       "      <td>1</td>\n",
       "      <td>12</td>\n",
       "      <td>1</td>\n",
       "    </tr>\n",
       "    <tr>\n",
       "      <th>5004</th>\n",
       "      <td>552</td>\n",
       "      <td>2017-01-01 12:57:04</td>\n",
       "      <td>2017-01-01 13:06:16</td>\n",
       "      <td>349</td>\n",
       "      <td>Rivington St &amp; Ridge St</td>\n",
       "      <td>40.718502</td>\n",
       "      <td>-73.983299</td>\n",
       "      <td>308</td>\n",
       "      <td>St James Pl &amp; Oliver St</td>\n",
       "      <td>40.713079</td>\n",
       "      <td>-73.998512</td>\n",
       "      <td>24871</td>\n",
       "      <td>Subscriber</td>\n",
       "      <td>1984.0</td>\n",
       "      <td>1</td>\n",
       "      <td>12</td>\n",
       "      <td>1</td>\n",
       "    </tr>\n",
       "  </tbody>\n",
       "</table>\n",
       "</div>"
      ],
      "text/plain": [
       "      trip_duration           start_time            stop_time  \\\n",
       "5000           1189  2017-01-01 12:56:58  2017-01-01 13:16:48   \n",
       "5001            738  2017-01-01 12:56:58  2017-01-01 13:09:17   \n",
       "5002            228  2017-01-01 12:57:04  2017-01-01 13:00:53   \n",
       "5003            295  2017-01-01 12:57:02  2017-01-01 13:01:58   \n",
       "5004            552  2017-01-01 12:57:04  2017-01-01 13:06:16   \n",
       "\n",
       "      start_station_id       start_station_name  start_station_latitude  \\\n",
       "5000               293    Lafayette St & E 8 St               40.730207   \n",
       "5001               490          8 Ave & W 33 St               40.751551   \n",
       "5002               308  St James Pl & Oliver St               40.713079   \n",
       "5003               482          W 15 St & 7 Ave               40.739355   \n",
       "5004               349  Rivington St & Ridge St               40.718502   \n",
       "\n",
       "      start_station_longitude  end_station_id         end_station_name  \\\n",
       "5000               -73.991026             426    West St & Chambers St   \n",
       "5001               -73.993934             513         W 56 St & 10 Ave   \n",
       "5002               -73.998512             361     Allen St & Hester St   \n",
       "5003               -73.999318             127    Barrow St & Hudson St   \n",
       "5004               -73.983299             308  St James Pl & Oliver St   \n",
       "\n",
       "      end_station_latitude  end_station_longitude  bike_id   user_type  \\\n",
       "5000             40.717548             -74.013221    15922         NaN   \n",
       "5001             40.768254             -73.988639    17254  Subscriber   \n",
       "5002             40.716059             -73.991908    15740  Subscriber   \n",
       "5003             40.731724             -74.006744    27226  Subscriber   \n",
       "5004             40.713079             -73.998512    24871  Subscriber   \n",
       "\n",
       "      birth_year  gender  hour  diurnal  \n",
       "5000      1996.0       1    12        1  \n",
       "5001      1949.0       1    12        1  \n",
       "5002      1957.0       1    12        1  \n",
       "5003      1981.0       1    12        1  \n",
       "5004      1984.0       1    12        1  "
      ]
     },
     "execution_count": 21,
     "metadata": {},
     "output_type": "execute_result"
    }
   ],
   "source": [
    "df.iloc[5000:5005]"
   ]
  },
  {
   "cell_type": "markdown",
   "metadata": {},
   "source": [
    "### H0: The tripduration of daytime riders and nighttime riders come from same distribution . \n",
    "\n",
    "### H1: The tripduration of daytime riders and nighttime riders come from different distributions.\n",
    "\n",
    "### alpha = 0.05"
   ]
  },
  {
   "cell_type": "code",
   "execution_count": 22,
   "metadata": {
    "collapsed": true
   },
   "outputs": [],
   "source": [
    "# axD = df.trip_duration.groupby(df.hour, {lambda x: (x['diurnal'] == 1)}).agg([count_nonzero]).plot(kind='bar', legend=False)\n",
    "# axD.set_title(\"day riders\")\n",
    "\n",
    "# axN = df.trip_duration.groupby(df.hour, {lambda x: (x['diurnal'] == 0)}).agg([count_nonzero]).plot(kind='bar', legend=False)\n",
    "# axN.set_title(\"night riders\")"
   ]
  },
  {
   "cell_type": "code",
   "execution_count": 23,
   "metadata": {
    "collapsed": false
   },
   "outputs": [
    {
     "data": {
      "text/plain": [
       "Ks_2sampResult(statistic=0.027609370549812218, pvalue=2.6307153404315628e-298)"
      ]
     },
     "execution_count": 23,
     "metadata": {},
     "output_type": "execute_result"
    }
   ],
   "source": [
    "ks = scipy.stats.ks_2samp(df.trip_duration[df.diurnal == 0], df.trip_duration[df.diurnal == 1])\n",
    "ks"
   ]
  },
  {
   "cell_type": "markdown",
   "metadata": {},
   "source": [
    "Since the p-value is less than 0.05, the null hypothesis is rejected that the tripduration fo day and night time riders are uncorrelated"
   ]
  },
  {
   "cell_type": "code",
   "execution_count": 24,
   "metadata": {
    "collapsed": true
   },
   "outputs": [],
   "source": [
    "day_trips = df.trip_duration[df.diurnal == 1].as_matrix()\n",
    "night_trips = df.trip_duration[df.diurnal == 0].as_matrix()"
   ]
  },
  {
   "cell_type": "code",
   "execution_count": 25,
   "metadata": {
    "collapsed": false
   },
   "outputs": [
    {
     "data": {
      "text/plain": [
       "array([1388,  231, 2023, ..., 2572,  595,  249])"
      ]
     },
     "execution_count": 25,
     "metadata": {},
     "output_type": "execute_result"
    }
   ],
   "source": [
    "day_trips"
   ]
  },
  {
   "cell_type": "code",
   "execution_count": 26,
   "metadata": {
    "collapsed": false
   },
   "outputs": [
    {
     "data": {
      "text/plain": [
       "array([ 680, 1282,  648, ..., 1211,  547, 1816])"
      ]
     },
     "execution_count": 26,
     "metadata": {},
     "output_type": "execute_result"
    }
   ],
   "source": [
    "night_trips"
   ]
  },
  {
   "cell_type": "code",
   "execution_count": 27,
   "metadata": {
    "collapsed": false
   },
   "outputs": [
    {
     "data": {
      "text/plain": [
       "array([241, 275, 209, ..., 398, 553, 898])"
      ]
     },
     "execution_count": 27,
     "metadata": {},
     "output_type": "execute_result"
    }
   ],
   "source": [
    "n_day_trips = np.random.choice(day_trips, len(night_trips), replace=False)\n",
    "n_day_trips"
   ]
  },
  {
   "cell_type": "code",
   "execution_count": 28,
   "metadata": {
    "collapsed": false
   },
   "outputs": [
    {
     "name": "stdout",
     "output_type": "stream",
     "text": [
      "592138 592138\n"
     ]
    }
   ],
   "source": [
    "n_day_trips = sorted(n_day_trips)\n",
    "n_night_trips = sorted(night_trips)\n",
    "\n",
    "print(len(n_day_trips), len(n_night_trips))"
   ]
  },
  {
   "cell_type": "code",
   "execution_count": 29,
   "metadata": {
    "collapsed": false
   },
   "outputs": [
    {
     "data": {
      "text/plain": [
       "(0.95502186382406984, 0.0)"
      ]
     },
     "execution_count": 29,
     "metadata": {},
     "output_type": "execute_result"
    }
   ],
   "source": [
    "pear = scipy.stats.pearsonr(n_day_trips, n_night_trips)\n",
    "pear"
   ]
  },
  {
   "cell_type": "markdown",
   "metadata": {},
   "source": [
    "Since the p-value is less than 0.05, the null hypothesis is rejected that the tripduration fo day and night time riders are uncorrelated"
   ]
  },
  {
   "cell_type": "code",
   "execution_count": 30,
   "metadata": {
    "collapsed": false
   },
   "outputs": [
    {
     "data": {
      "text/plain": [
       "(1.0, 0.0)"
      ]
     },
     "execution_count": 30,
     "metadata": {},
     "output_type": "execute_result"
    }
   ],
   "source": [
    "scipy.stats.pearsonr(n_day_trips, n_day_trips)"
   ]
  },
  {
   "cell_type": "code",
   "execution_count": 31,
   "metadata": {
    "collapsed": false
   },
   "outputs": [
    {
     "data": {
      "text/plain": [
       "SpearmanrResult(correlation=0.99999940488303096, pvalue=0.0)"
      ]
     },
     "execution_count": 31,
     "metadata": {},
     "output_type": "execute_result"
    }
   ],
   "source": [
    "spear = scipy.stats.spearmanr(n_day_trips, n_night_trips)\n",
    "spear"
   ]
  },
  {
   "cell_type": "markdown",
   "metadata": {},
   "source": [
    "Since the p-value is less than 0.05, the null hypothesis is rejected that the tripduration fo day and night time riders are uncorrelated"
   ]
  },
  {
   "cell_type": "markdown",
   "metadata": {},
   "source": [
    "# Age of bikers for trips originating in Manhattan and in Brooklyn"
   ]
  },
  {
   "cell_type": "code",
   "execution_count": 32,
   "metadata": {
    "collapsed": false
   },
   "outputs": [
    {
     "data": {
      "text/plain": [
       "Index(['trip_duration', 'start_time', 'stop_time', 'start_station_id',\n",
       "       'start_station_name', 'start_station_latitude',\n",
       "       'start_station_longitude', 'end_station_id', 'end_station_name',\n",
       "       'end_station_latitude', 'end_station_longitude', 'bike_id', 'user_type',\n",
       "       'birth_year', 'gender', 'hour', 'diurnal'],\n",
       "      dtype='object')"
      ]
     },
     "execution_count": 32,
     "metadata": {},
     "output_type": "execute_result"
    }
   ],
   "source": [
    "df.columns"
   ]
  },
  {
   "cell_type": "code",
   "execution_count": 33,
   "metadata": {
    "collapsed": true
   },
   "outputs": [],
   "source": [
    "# calculate age\n",
    "df['age']=2017-df['birth_year']"
   ]
  },
  {
   "cell_type": "code",
   "execution_count": 34,
   "metadata": {
    "collapsed": true
   },
   "outputs": [],
   "source": [
    "# drop nulls\n",
    "df=df.dropna(subset=['age'],axis=0)"
   ]
  },
  {
   "cell_type": "code",
   "execution_count": 35,
   "metadata": {
    "collapsed": false
   },
   "outputs": [
    {
     "data": {
      "text/html": [
       "<div>\n",
       "<table border=\"1\" class=\"dataframe\">\n",
       "  <thead>\n",
       "    <tr style=\"text-align: right;\">\n",
       "      <th></th>\n",
       "      <th>trip_duration</th>\n",
       "      <th>start_time</th>\n",
       "      <th>stop_time</th>\n",
       "      <th>start_station_id</th>\n",
       "      <th>start_station_name</th>\n",
       "      <th>start_station_latitude</th>\n",
       "      <th>start_station_longitude</th>\n",
       "      <th>end_station_id</th>\n",
       "      <th>end_station_name</th>\n",
       "      <th>end_station_latitude</th>\n",
       "      <th>end_station_longitude</th>\n",
       "      <th>bike_id</th>\n",
       "      <th>user_type</th>\n",
       "      <th>birth_year</th>\n",
       "      <th>gender</th>\n",
       "      <th>hour</th>\n",
       "      <th>diurnal</th>\n",
       "      <th>age</th>\n",
       "    </tr>\n",
       "  </thead>\n",
       "  <tbody>\n",
       "    <tr>\n",
       "      <th>0</th>\n",
       "      <td>680</td>\n",
       "      <td>2017-01-01 00:00:21</td>\n",
       "      <td>2017-01-01 00:11:41</td>\n",
       "      <td>3226</td>\n",
       "      <td>W 82 St &amp; Central Park West</td>\n",
       "      <td>40.782750</td>\n",
       "      <td>-73.971370</td>\n",
       "      <td>3165</td>\n",
       "      <td>Central Park West &amp; W 72 St</td>\n",
       "      <td>40.775794</td>\n",
       "      <td>-73.976206</td>\n",
       "      <td>25542</td>\n",
       "      <td>Subscriber</td>\n",
       "      <td>1965.0</td>\n",
       "      <td>2</td>\n",
       "      <td>0</td>\n",
       "      <td>0</td>\n",
       "      <td>52.0</td>\n",
       "    </tr>\n",
       "    <tr>\n",
       "      <th>1</th>\n",
       "      <td>1282</td>\n",
       "      <td>2017-01-01 00:00:45</td>\n",
       "      <td>2017-01-01 00:22:08</td>\n",
       "      <td>3263</td>\n",
       "      <td>Cooper Square &amp; E 7 St</td>\n",
       "      <td>40.729236</td>\n",
       "      <td>-73.990868</td>\n",
       "      <td>498</td>\n",
       "      <td>Broadway &amp; W 32 St</td>\n",
       "      <td>40.748549</td>\n",
       "      <td>-73.988084</td>\n",
       "      <td>21136</td>\n",
       "      <td>Subscriber</td>\n",
       "      <td>1987.0</td>\n",
       "      <td>2</td>\n",
       "      <td>0</td>\n",
       "      <td>0</td>\n",
       "      <td>30.0</td>\n",
       "    </tr>\n",
       "    <tr>\n",
       "      <th>5</th>\n",
       "      <td>666</td>\n",
       "      <td>2017-01-01 00:01:51</td>\n",
       "      <td>2017-01-01 00:12:57</td>\n",
       "      <td>3163</td>\n",
       "      <td>Central Park West &amp; W 68 St</td>\n",
       "      <td>40.773407</td>\n",
       "      <td>-73.977825</td>\n",
       "      <td>3163</td>\n",
       "      <td>Central Park West &amp; W 68 St</td>\n",
       "      <td>40.773407</td>\n",
       "      <td>-73.977825</td>\n",
       "      <td>16050</td>\n",
       "      <td>Subscriber</td>\n",
       "      <td>2000.0</td>\n",
       "      <td>1</td>\n",
       "      <td>0</td>\n",
       "      <td>0</td>\n",
       "      <td>17.0</td>\n",
       "    </tr>\n",
       "    <tr>\n",
       "      <th>6</th>\n",
       "      <td>559</td>\n",
       "      <td>2017-01-01 00:05:00</td>\n",
       "      <td>2017-01-01 00:14:20</td>\n",
       "      <td>499</td>\n",
       "      <td>Broadway &amp; W 60 St</td>\n",
       "      <td>40.769155</td>\n",
       "      <td>-73.981918</td>\n",
       "      <td>479</td>\n",
       "      <td>9 Ave &amp; W 45 St</td>\n",
       "      <td>40.760193</td>\n",
       "      <td>-73.991255</td>\n",
       "      <td>27294</td>\n",
       "      <td>Subscriber</td>\n",
       "      <td>1973.0</td>\n",
       "      <td>1</td>\n",
       "      <td>0</td>\n",
       "      <td>0</td>\n",
       "      <td>44.0</td>\n",
       "    </tr>\n",
       "    <tr>\n",
       "      <th>7</th>\n",
       "      <td>826</td>\n",
       "      <td>2017-01-01 00:05:37</td>\n",
       "      <td>2017-01-01 00:19:24</td>\n",
       "      <td>362</td>\n",
       "      <td>Broadway &amp; W 37 St</td>\n",
       "      <td>40.751726</td>\n",
       "      <td>-73.987535</td>\n",
       "      <td>445</td>\n",
       "      <td>E 10 St &amp; Avenue A</td>\n",
       "      <td>40.727408</td>\n",
       "      <td>-73.981420</td>\n",
       "      <td>23288</td>\n",
       "      <td>Subscriber</td>\n",
       "      <td>1977.0</td>\n",
       "      <td>2</td>\n",
       "      <td>0</td>\n",
       "      <td>0</td>\n",
       "      <td>40.0</td>\n",
       "    </tr>\n",
       "  </tbody>\n",
       "</table>\n",
       "</div>"
      ],
      "text/plain": [
       "   trip_duration           start_time            stop_time  start_station_id  \\\n",
       "0            680  2017-01-01 00:00:21  2017-01-01 00:11:41              3226   \n",
       "1           1282  2017-01-01 00:00:45  2017-01-01 00:22:08              3263   \n",
       "5            666  2017-01-01 00:01:51  2017-01-01 00:12:57              3163   \n",
       "6            559  2017-01-01 00:05:00  2017-01-01 00:14:20               499   \n",
       "7            826  2017-01-01 00:05:37  2017-01-01 00:19:24               362   \n",
       "\n",
       "            start_station_name  start_station_latitude  \\\n",
       "0  W 82 St & Central Park West               40.782750   \n",
       "1       Cooper Square & E 7 St               40.729236   \n",
       "5  Central Park West & W 68 St               40.773407   \n",
       "6           Broadway & W 60 St               40.769155   \n",
       "7           Broadway & W 37 St               40.751726   \n",
       "\n",
       "   start_station_longitude  end_station_id             end_station_name  \\\n",
       "0               -73.971370            3165  Central Park West & W 72 St   \n",
       "1               -73.990868             498           Broadway & W 32 St   \n",
       "5               -73.977825            3163  Central Park West & W 68 St   \n",
       "6               -73.981918             479              9 Ave & W 45 St   \n",
       "7               -73.987535             445           E 10 St & Avenue A   \n",
       "\n",
       "   end_station_latitude  end_station_longitude  bike_id   user_type  \\\n",
       "0             40.775794             -73.976206    25542  Subscriber   \n",
       "1             40.748549             -73.988084    21136  Subscriber   \n",
       "5             40.773407             -73.977825    16050  Subscriber   \n",
       "6             40.760193             -73.991255    27294  Subscriber   \n",
       "7             40.727408             -73.981420    23288  Subscriber   \n",
       "\n",
       "   birth_year  gender  hour  diurnal   age  \n",
       "0      1965.0       2     0        0  52.0  \n",
       "1      1987.0       2     0        0  30.0  \n",
       "5      2000.0       1     0        0  17.0  \n",
       "6      1973.0       1     0        0  44.0  \n",
       "7      1977.0       2     0        0  40.0  "
      ]
     },
     "execution_count": 35,
     "metadata": {},
     "output_type": "execute_result"
    }
   ],
   "source": [
    "df.head()"
   ]
  },
  {
   "cell_type": "code",
   "execution_count": 36,
   "metadata": {
    "collapsed": true
   },
   "outputs": [],
   "source": [
    "# border out Manhattan and Brooklyn\n",
    "conditions = [\n",
    "    (df['start_station_latitude']>= 40.697072) & (df['start_station_longitude'] <= -73.911243),\n",
    "    (df['start_station_latitude']<=40.730043)&(df['start_station_longitude']<=-73.967100)\n",
    "    ]\n",
    "choices = ['manhattan', 'brooklyn']\n",
    "df['borough'] = np.select(conditions, choices, default='unknown')"
   ]
  },
  {
   "cell_type": "code",
   "execution_count": 37,
   "metadata": {
    "collapsed": false
   },
   "outputs": [
    {
     "data": {
      "text/html": [
       "<div>\n",
       "<table border=\"1\" class=\"dataframe\">\n",
       "  <thead>\n",
       "    <tr style=\"text-align: right;\">\n",
       "      <th></th>\n",
       "      <th>trip_duration</th>\n",
       "      <th>start_time</th>\n",
       "      <th>stop_time</th>\n",
       "      <th>start_station_id</th>\n",
       "      <th>start_station_name</th>\n",
       "      <th>start_station_latitude</th>\n",
       "      <th>start_station_longitude</th>\n",
       "      <th>end_station_id</th>\n",
       "      <th>end_station_name</th>\n",
       "      <th>end_station_latitude</th>\n",
       "      <th>end_station_longitude</th>\n",
       "      <th>bike_id</th>\n",
       "      <th>user_type</th>\n",
       "      <th>birth_year</th>\n",
       "      <th>gender</th>\n",
       "      <th>hour</th>\n",
       "      <th>diurnal</th>\n",
       "      <th>age</th>\n",
       "      <th>borough</th>\n",
       "    </tr>\n",
       "  </thead>\n",
       "  <tbody>\n",
       "    <tr>\n",
       "      <th>6351</th>\n",
       "      <td>880</td>\n",
       "      <td>2017-01-01 13:51:41</td>\n",
       "      <td>2017-01-01 14:06:22</td>\n",
       "      <td>3407</td>\n",
       "      <td>Union St &amp; Nevins St</td>\n",
       "      <td>40.679098</td>\n",
       "      <td>-73.987655</td>\n",
       "      <td>3349</td>\n",
       "      <td>Grand Army Plaza &amp; Plaza St West</td>\n",
       "      <td>40.672968</td>\n",
       "      <td>-73.970880</td>\n",
       "      <td>26380</td>\n",
       "      <td>Subscriber</td>\n",
       "      <td>1985.0</td>\n",
       "      <td>2</td>\n",
       "      <td>13</td>\n",
       "      <td>1</td>\n",
       "      <td>32.0</td>\n",
       "      <td>brooklyn</td>\n",
       "    </tr>\n",
       "    <tr>\n",
       "      <th>6352</th>\n",
       "      <td>1499</td>\n",
       "      <td>2017-01-01 13:51:43</td>\n",
       "      <td>2017-01-01 14:16:42</td>\n",
       "      <td>161</td>\n",
       "      <td>LaGuardia Pl &amp; W 3 St</td>\n",
       "      <td>40.729170</td>\n",
       "      <td>-73.998102</td>\n",
       "      <td>532</td>\n",
       "      <td>S 5 Pl &amp; S 4 St</td>\n",
       "      <td>40.710451</td>\n",
       "      <td>-73.960876</td>\n",
       "      <td>18834</td>\n",
       "      <td>Subscriber</td>\n",
       "      <td>1956.0</td>\n",
       "      <td>2</td>\n",
       "      <td>13</td>\n",
       "      <td>1</td>\n",
       "      <td>61.0</td>\n",
       "      <td>manhattan</td>\n",
       "    </tr>\n",
       "    <tr>\n",
       "      <th>6353</th>\n",
       "      <td>133</td>\n",
       "      <td>2017-01-01 13:51:44</td>\n",
       "      <td>2017-01-01 13:53:58</td>\n",
       "      <td>498</td>\n",
       "      <td>Broadway &amp; W 32 St</td>\n",
       "      <td>40.748549</td>\n",
       "      <td>-73.988084</td>\n",
       "      <td>486</td>\n",
       "      <td>Broadway &amp; W 29 St</td>\n",
       "      <td>40.746201</td>\n",
       "      <td>-73.988557</td>\n",
       "      <td>26575</td>\n",
       "      <td>Subscriber</td>\n",
       "      <td>1954.0</td>\n",
       "      <td>1</td>\n",
       "      <td>13</td>\n",
       "      <td>1</td>\n",
       "      <td>63.0</td>\n",
       "      <td>manhattan</td>\n",
       "    </tr>\n",
       "    <tr>\n",
       "      <th>6354</th>\n",
       "      <td>1752</td>\n",
       "      <td>2017-01-01 13:51:46</td>\n",
       "      <td>2017-01-01 14:20:58</td>\n",
       "      <td>3349</td>\n",
       "      <td>Grand Army Plaza &amp; Plaza St West</td>\n",
       "      <td>40.672968</td>\n",
       "      <td>-73.970880</td>\n",
       "      <td>3339</td>\n",
       "      <td>Berkeley Pl &amp; 6 Ave</td>\n",
       "      <td>40.676530</td>\n",
       "      <td>-73.978469</td>\n",
       "      <td>27088</td>\n",
       "      <td>Subscriber</td>\n",
       "      <td>1969.0</td>\n",
       "      <td>2</td>\n",
       "      <td>13</td>\n",
       "      <td>1</td>\n",
       "      <td>48.0</td>\n",
       "      <td>brooklyn</td>\n",
       "    </tr>\n",
       "    <tr>\n",
       "      <th>6355</th>\n",
       "      <td>506</td>\n",
       "      <td>2017-01-01 13:51:49</td>\n",
       "      <td>2017-01-01 14:00:16</td>\n",
       "      <td>127</td>\n",
       "      <td>Barrow St &amp; Hudson St</td>\n",
       "      <td>40.731724</td>\n",
       "      <td>-74.006744</td>\n",
       "      <td>435</td>\n",
       "      <td>W 21 St &amp; 6 Ave</td>\n",
       "      <td>40.741740</td>\n",
       "      <td>-73.994156</td>\n",
       "      <td>25266</td>\n",
       "      <td>Subscriber</td>\n",
       "      <td>1985.0</td>\n",
       "      <td>1</td>\n",
       "      <td>13</td>\n",
       "      <td>1</td>\n",
       "      <td>32.0</td>\n",
       "      <td>manhattan</td>\n",
       "    </tr>\n",
       "    <tr>\n",
       "      <th>6356</th>\n",
       "      <td>270</td>\n",
       "      <td>2017-01-01 13:51:51</td>\n",
       "      <td>2017-01-01 13:56:21</td>\n",
       "      <td>237</td>\n",
       "      <td>E 11 St &amp; 2 Ave</td>\n",
       "      <td>40.730473</td>\n",
       "      <td>-73.986724</td>\n",
       "      <td>285</td>\n",
       "      <td>Broadway &amp; E 14 St</td>\n",
       "      <td>40.734546</td>\n",
       "      <td>-73.990741</td>\n",
       "      <td>16517</td>\n",
       "      <td>Subscriber</td>\n",
       "      <td>1993.0</td>\n",
       "      <td>2</td>\n",
       "      <td>13</td>\n",
       "      <td>1</td>\n",
       "      <td>24.0</td>\n",
       "      <td>manhattan</td>\n",
       "    </tr>\n",
       "    <tr>\n",
       "      <th>6358</th>\n",
       "      <td>210</td>\n",
       "      <td>2017-01-01 13:51:59</td>\n",
       "      <td>2017-01-01 13:55:29</td>\n",
       "      <td>365</td>\n",
       "      <td>Fulton St &amp; Grand Ave</td>\n",
       "      <td>40.682232</td>\n",
       "      <td>-73.961458</td>\n",
       "      <td>344</td>\n",
       "      <td>Monroe St &amp; Bedford Ave</td>\n",
       "      <td>40.685144</td>\n",
       "      <td>-73.953809</td>\n",
       "      <td>14695</td>\n",
       "      <td>Subscriber</td>\n",
       "      <td>1974.0</td>\n",
       "      <td>1</td>\n",
       "      <td>13</td>\n",
       "      <td>1</td>\n",
       "      <td>43.0</td>\n",
       "      <td>unknown</td>\n",
       "    </tr>\n",
       "    <tr>\n",
       "      <th>6360</th>\n",
       "      <td>307</td>\n",
       "      <td>2017-01-01 13:52:02</td>\n",
       "      <td>2017-01-01 13:57:10</td>\n",
       "      <td>402</td>\n",
       "      <td>Broadway &amp; E 22 St</td>\n",
       "      <td>40.740343</td>\n",
       "      <td>-73.989551</td>\n",
       "      <td>345</td>\n",
       "      <td>W 13 St &amp; 6 Ave</td>\n",
       "      <td>40.736494</td>\n",
       "      <td>-73.997044</td>\n",
       "      <td>20598</td>\n",
       "      <td>Subscriber</td>\n",
       "      <td>1981.0</td>\n",
       "      <td>1</td>\n",
       "      <td>13</td>\n",
       "      <td>1</td>\n",
       "      <td>36.0</td>\n",
       "      <td>manhattan</td>\n",
       "    </tr>\n",
       "    <tr>\n",
       "      <th>6362</th>\n",
       "      <td>617</td>\n",
       "      <td>2017-01-01 13:52:05</td>\n",
       "      <td>2017-01-01 14:02:22</td>\n",
       "      <td>480</td>\n",
       "      <td>W 53 St &amp; 10 Ave</td>\n",
       "      <td>40.766697</td>\n",
       "      <td>-73.990617</td>\n",
       "      <td>3163</td>\n",
       "      <td>Central Park West &amp; W 68 St</td>\n",
       "      <td>40.773407</td>\n",
       "      <td>-73.977825</td>\n",
       "      <td>20351</td>\n",
       "      <td>Subscriber</td>\n",
       "      <td>1959.0</td>\n",
       "      <td>1</td>\n",
       "      <td>13</td>\n",
       "      <td>1</td>\n",
       "      <td>58.0</td>\n",
       "      <td>manhattan</td>\n",
       "    </tr>\n",
       "    <tr>\n",
       "      <th>6363</th>\n",
       "      <td>649</td>\n",
       "      <td>2017-01-01 13:52:06</td>\n",
       "      <td>2017-01-01 14:02:56</td>\n",
       "      <td>3233</td>\n",
       "      <td>E 48 St &amp; 5 Ave</td>\n",
       "      <td>40.757246</td>\n",
       "      <td>-73.978059</td>\n",
       "      <td>508</td>\n",
       "      <td>W 46 St &amp; 11 Ave</td>\n",
       "      <td>40.763414</td>\n",
       "      <td>-73.996674</td>\n",
       "      <td>26560</td>\n",
       "      <td>Subscriber</td>\n",
       "      <td>1961.0</td>\n",
       "      <td>1</td>\n",
       "      <td>13</td>\n",
       "      <td>1</td>\n",
       "      <td>56.0</td>\n",
       "      <td>manhattan</td>\n",
       "    </tr>\n",
       "  </tbody>\n",
       "</table>\n",
       "</div>"
      ],
      "text/plain": [
       "      trip_duration           start_time            stop_time  \\\n",
       "6351            880  2017-01-01 13:51:41  2017-01-01 14:06:22   \n",
       "6352           1499  2017-01-01 13:51:43  2017-01-01 14:16:42   \n",
       "6353            133  2017-01-01 13:51:44  2017-01-01 13:53:58   \n",
       "6354           1752  2017-01-01 13:51:46  2017-01-01 14:20:58   \n",
       "6355            506  2017-01-01 13:51:49  2017-01-01 14:00:16   \n",
       "6356            270  2017-01-01 13:51:51  2017-01-01 13:56:21   \n",
       "6358            210  2017-01-01 13:51:59  2017-01-01 13:55:29   \n",
       "6360            307  2017-01-01 13:52:02  2017-01-01 13:57:10   \n",
       "6362            617  2017-01-01 13:52:05  2017-01-01 14:02:22   \n",
       "6363            649  2017-01-01 13:52:06  2017-01-01 14:02:56   \n",
       "\n",
       "      start_station_id                start_station_name  \\\n",
       "6351              3407              Union St & Nevins St   \n",
       "6352               161             LaGuardia Pl & W 3 St   \n",
       "6353               498                Broadway & W 32 St   \n",
       "6354              3349  Grand Army Plaza & Plaza St West   \n",
       "6355               127             Barrow St & Hudson St   \n",
       "6356               237                   E 11 St & 2 Ave   \n",
       "6358               365             Fulton St & Grand Ave   \n",
       "6360               402                Broadway & E 22 St   \n",
       "6362               480                  W 53 St & 10 Ave   \n",
       "6363              3233                   E 48 St & 5 Ave   \n",
       "\n",
       "      start_station_latitude  start_station_longitude  end_station_id  \\\n",
       "6351               40.679098               -73.987655            3349   \n",
       "6352               40.729170               -73.998102             532   \n",
       "6353               40.748549               -73.988084             486   \n",
       "6354               40.672968               -73.970880            3339   \n",
       "6355               40.731724               -74.006744             435   \n",
       "6356               40.730473               -73.986724             285   \n",
       "6358               40.682232               -73.961458             344   \n",
       "6360               40.740343               -73.989551             345   \n",
       "6362               40.766697               -73.990617            3163   \n",
       "6363               40.757246               -73.978059             508   \n",
       "\n",
       "                      end_station_name  end_station_latitude  \\\n",
       "6351  Grand Army Plaza & Plaza St West             40.672968   \n",
       "6352                   S 5 Pl & S 4 St             40.710451   \n",
       "6353                Broadway & W 29 St             40.746201   \n",
       "6354               Berkeley Pl & 6 Ave             40.676530   \n",
       "6355                   W 21 St & 6 Ave             40.741740   \n",
       "6356                Broadway & E 14 St             40.734546   \n",
       "6358           Monroe St & Bedford Ave             40.685144   \n",
       "6360                   W 13 St & 6 Ave             40.736494   \n",
       "6362       Central Park West & W 68 St             40.773407   \n",
       "6363                  W 46 St & 11 Ave             40.763414   \n",
       "\n",
       "      end_station_longitude  bike_id   user_type  birth_year  gender  hour  \\\n",
       "6351             -73.970880    26380  Subscriber      1985.0       2    13   \n",
       "6352             -73.960876    18834  Subscriber      1956.0       2    13   \n",
       "6353             -73.988557    26575  Subscriber      1954.0       1    13   \n",
       "6354             -73.978469    27088  Subscriber      1969.0       2    13   \n",
       "6355             -73.994156    25266  Subscriber      1985.0       1    13   \n",
       "6356             -73.990741    16517  Subscriber      1993.0       2    13   \n",
       "6358             -73.953809    14695  Subscriber      1974.0       1    13   \n",
       "6360             -73.997044    20598  Subscriber      1981.0       1    13   \n",
       "6362             -73.977825    20351  Subscriber      1959.0       1    13   \n",
       "6363             -73.996674    26560  Subscriber      1961.0       1    13   \n",
       "\n",
       "      diurnal   age    borough  \n",
       "6351        1  32.0   brooklyn  \n",
       "6352        1  61.0  manhattan  \n",
       "6353        1  63.0  manhattan  \n",
       "6354        1  48.0   brooklyn  \n",
       "6355        1  32.0  manhattan  \n",
       "6356        1  24.0  manhattan  \n",
       "6358        1  43.0    unknown  \n",
       "6360        1  36.0  manhattan  \n",
       "6362        1  58.0  manhattan  \n",
       "6363        1  56.0  manhattan  "
      ]
     },
     "execution_count": 37,
     "metadata": {},
     "output_type": "execute_result"
    }
   ],
   "source": [
    "df.iloc[5000:5010]"
   ]
  },
  {
   "cell_type": "code",
   "execution_count": 54,
   "metadata": {
    "collapsed": true
   },
   "outputs": [],
   "source": [
    "manhattan = df.age[df['borough'] == 'manhattan'].as_matrix()\n",
    "brooklyn = df.age[df['borough'] == 'brooklyn'].as_matrix()"
   ]
  },
  {
   "cell_type": "markdown",
   "metadata": {},
   "source": [
    "### Null Hypothesis: H0: The age of bikers from Manhattan and Brooklyn are different i.e not correlated\n",
    "\n",
    "### Alternate Hypothesis: H1: The age of bikers from Manhattan and Brooklyn are same i.e. correlated\n",
    "\n",
    "### $\\alpha = 0.05 $"
   ]
  },
  {
   "cell_type": "code",
   "execution_count": 55,
   "metadata": {
    "collapsed": false
   },
   "outputs": [
    {
     "data": {
      "text/plain": [
       "Ks_2sampResult(statistic=0.066461996086353975, pvalue=0.0)"
      ]
     },
     "execution_count": 55,
     "metadata": {},
     "output_type": "execute_result"
    }
   ],
   "source": [
    "ks2 = scipy.stats.ks_2samp(df.age[df.borough == 'manhattan'], df.age[df.borough == 'brooklyn'])\n",
    "ks2"
   ]
  },
  {
   "cell_type": "markdown",
   "metadata": {},
   "source": [
    "statistic shows that both night and day for manhattan and brooklyn are quite similar in distribution. Since the p-value is less than 0.05, the null hypothesis can be rejected. "
   ]
  },
  {
   "cell_type": "code",
   "execution_count": 56,
   "metadata": {
    "collapsed": false
   },
   "outputs": [
    {
     "name": "stdout",
     "output_type": "stream",
     "text": [
      "1979774\n",
      "180698\n"
     ]
    }
   ],
   "source": [
    "print(len(manhattan))\n",
    "print(len(brooklyn))"
   ]
  },
  {
   "cell_type": "code",
   "execution_count": 58,
   "metadata": {
    "collapsed": false
   },
   "outputs": [
    {
     "name": "stdout",
     "output_type": "stream",
     "text": [
      "180698\n",
      "180698\n"
     ]
    }
   ],
   "source": [
    "manhattan = np.random.choice(manhattan, len(brooklyn))\n",
    "print(len(manhattan))\n",
    "print(len(brooklyn))"
   ]
  },
  {
   "cell_type": "code",
   "execution_count": 60,
   "metadata": {
    "collapsed": true
   },
   "outputs": [],
   "source": [
    "manhattan = sorted(manhattan)\n",
    "brooklyn = sorted(brooklyn)"
   ]
  },
  {
   "cell_type": "code",
   "execution_count": 61,
   "metadata": {
    "collapsed": false
   },
   "outputs": [
    {
     "data": {
      "text/plain": [
       "(0.99555772991403768, 0.0)"
      ]
     },
     "execution_count": 61,
     "metadata": {},
     "output_type": "execute_result"
    }
   ],
   "source": [
    "pear2 = scipy.stats.pearsonr(manhattan, brooklyn)\n",
    "pear2"
   ]
  },
  {
   "cell_type": "code",
   "execution_count": 62,
   "metadata": {
    "collapsed": false
   },
   "outputs": [
    {
     "data": {
      "text/plain": [
       "SpearmanrResult(correlation=0.99884956234583699, pvalue=0.0)"
      ]
     },
     "execution_count": 62,
     "metadata": {},
     "output_type": "execute_result"
    }
   ],
   "source": [
    "spear2 = scipy.stats.spearmanr(manhattan, brooklyn)\n",
    "spear2"
   ]
  },
  {
   "cell_type": "markdown",
   "metadata": {},
   "source": [
    "For both pearson and spearmans' tests, a P-value of 0.0 is given, which is less than 0.05, thus rejecting the null hypothesis. "
   ]
  },
  {
   "cell_type": "code",
   "execution_count": null,
   "metadata": {
    "collapsed": true
   },
   "outputs": [],
   "source": []
  }
 ],
 "metadata": {
  "kernelspec": {
   "display_name": "PUI2016_Python3",
   "language": "python",
   "name": "pui2016_python3"
  },
  "language_info": {
   "codemirror_mode": {
    "name": "ipython",
    "version": 3
   },
   "file_extension": ".py",
   "mimetype": "text/x-python",
   "name": "python",
   "nbconvert_exporter": "python",
   "pygments_lexer": "ipython3",
   "version": "3.5.4"
  }
 },
 "nbformat": 4,
 "nbformat_minor": 2
}
